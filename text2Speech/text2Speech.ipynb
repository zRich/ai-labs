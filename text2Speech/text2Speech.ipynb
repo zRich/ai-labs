{
 "cells": [
  {
   "cell_type": "code",
   "execution_count": 6,
   "id": "1253ebad-174a-4485-8846-fd5b47a5e6ce",
   "metadata": {},
   "outputs": [
    {
     "name": "stdout",
     "output_type": "stream",
     "text": [
      "Looking in indexes: https://pypi.tuna.tsinghua.edu.cn/simple\n",
      "Requirement already satisfied: azure-cognitiveservices-speech in j:\\openai\\venv\\lib\\site-packages (1.37.0)\n",
      "Collecting python-dotenv\n",
      "  Using cached https://pypi.tuna.tsinghua.edu.cn/packages/6a/3e/b68c118422ec867fa7ab88444e1274aa40681c606d59ac27de5a5588f082/python_dotenv-1.0.1-py3-none-any.whl (19 kB)\n",
      "Installing collected packages: python-dotenv\n",
      "Successfully installed python-dotenv-1.0.1\n"
     ]
    }
   ],
   "source": [
    "!pip install azure-cognitiveservices-speech python-dotenv"
   ]
  },
  {
   "cell_type": "code",
   "execution_count": 7,
   "id": "0d2d0e3a-d607-46fd-9cc0-5a552cc387fc",
   "metadata": {
    "tags": []
   },
   "outputs": [],
   "source": [
    "import azure.cognitiveservices.speech as speechsdk\n",
    "from dotenv import load_dotenv\n",
    "import os"
   ]
  },
  {
   "cell_type": "code",
   "execution_count": 8,
   "id": "e58c92d5-b49f-408c-9fab-ba925e76419a",
   "metadata": {
    "tags": []
   },
   "outputs": [],
   "source": [
    "load_dotenv()\n",
    "speech_key = os.getenv(\"TEXT2SPEECH_KEY\")\n",
    "service_region = os.getenv(\"TEXT2SPEECH_REGION\")"
   ]
  },
  {
   "cell_type": "code",
   "execution_count": 9,
   "id": "141b2575-7bac-4b33-8886-4c4a70c4e4a4",
   "metadata": {
    "tags": []
   },
   "outputs": [],
   "source": [
    "speech_config = speechsdk.SpeechConfig(subscription=speech_key, region=service_region)\n",
    "# Note: the voice setting will not overwrite the voice element in input SSML.\n",
    "speech_config.speech_synthesis_voice_name = \"zh-CN-XiaoxiaoNeural\""
   ]
  },
  {
   "cell_type": "code",
   "execution_count": 10,
   "id": "6bca9974-f125-456a-bfc9-95453855b108",
   "metadata": {
    "tags": []
   },
   "outputs": [],
   "source": [
    "audio_file = \"苏联模式.wav\"\n",
    "audio_config = speechsdk.audio.AudioOutputConfig(filename=audio_file)\n",
    "speech_synthesizer = speechsdk.SpeechSynthesizer(speech_config=speech_config, audio_config=audio_config)"
   ]
  },
  {
   "cell_type": "code",
   "execution_count": 11,
   "id": "665a0415-771d-4161-9b43-896709a3a1c6",
   "metadata": {
    "tags": []
   },
   "outputs": [],
   "source": [
    "text = \"\"\"\n",
    "苏联模式：特点及其遗留问题\n",
    "\n",
    "苏联模式是一种集中式、计划经济体制的经济模式，主要原则是政府控制国有企业和资源，并通过中央计划来指导生产和分配。这种模式在苏联期间取得了一定的成功，但也面临了很多问题和挑战，最终在1991年苏联解体后终结。苏联模式的特点包括国有垄断、计划经济、等价交换、低效率、不合理的资源配置等。但随着时间的推移，这种模式逐渐暴露出许多问题。\n",
    "\n",
    "首先，计划经济效率低下。计划经济需要依靠庞大的机构和计算模型进行计划安排，但由于市场与价格机制的缺失，无法及时反映生产和消费的需求变化，导致生产效率低下、产出品质差，大量浪费社会资源。\n",
    "\n",
    "其次，集权主义导致决策不民主、无法有效响应社会变化。政治权力高度集中，导致政府缺少对市场和民间经济的了解和把握，对自由市场竞争缺乏适应性，不能满足人民的需求和要求，使得国家和民间经济难以协同发展。\n",
    "\n",
    "国有化也引起了一系列问题。国家几乎垄断了所有工业、农业和服务业，使得政府需要大量的资源来维持，导致财政状况严峻，同时由于国有化所造成的资源浪费和不必要的开支，国家经济长期处于亏损状态。\n",
    "\n",
    "苏联模式对人的自由与权利的限制过于严格。集权主义的体制剥夺了个人自由，使得个人的言论、新闻和出版受到很大限制。这样的体制导致知识和信息的匮乏，影响了人们的思想和素质成长。这些问题最终导致苏联在1989年解体。\n",
    "\n",
    "如何防止苏联模式重现？\n",
    "\n",
    "首先，推动政治制度的改革，建立法治国家，保护人民的自由和权利，实现政治多元化。其次，建立市场经济，并实行合理有效的市场调节和竞争机制，以保持经济发展的稳定和可持续性。加强教育，提高人民的素质和觉悟，使其能够理性思考问题并参与民主决策。加强跨国合作和交流，促进国际关系的和平化和多元化。同时，高度重视科技革命和现代化建设，提高国家的竞争力。\n",
    "\n",
    "如何解决苏联模式的遗留问题？\n",
    "\n",
    "逐步开放市场经济，采取“市场化改革”措施，使资源的配置更加有效率。同时，建立透明、公正、高效的政府管理机制，并加强政府与民间社会组织的合作与沟通。加强基础教育、职业培训和科技创新，赋予人们更多的知识和技能，提高其竞争力。同时，采取严厉的法律手段打击腐败现象，建立公正、高效的司法系统，维护人民的合法权益。\n",
    "\n",
    "与苏联模式相比，中国制定的社会主义建设方针注重农业优先发展，注重调动群众积极性，强调珠联璧合的地方发展，并灵活运用马克思主义原则来适应时代的要求，从而实现了社会主义建设的稳步发展。\n",
    "\"\"\""
   ]
  },
  {
   "cell_type": "code",
   "execution_count": 12,
   "id": "f888cc28-7581-4e1d-8279-7c7ed97a41c7",
   "metadata": {
    "tags": []
   },
   "outputs": [
    {
     "name": "stdout",
     "output_type": "stream",
     "text": [
      "Speech synthesized for text [\n",
      "苏联模式：特点及其遗留问题\n",
      "\n",
      "苏联模式是一种集中式、计划经济体制的经济模式，主要原则是政府控制国有企业和资源，并通过中央计划来指导生产和分配。这种模式在苏联期间取得了一定的成功，但也面临了很多问题和挑战，最终在1991年苏联解体后终结。苏联模式的特点包括国有垄断、计划经济、等价交换、低效率、不合理的资源配置等。但随着时间的推移，这种模式逐渐暴露出许多问题。\n",
      "\n",
      "首先，计划经济效率低下。计划经济需要依靠庞大的机构和计算模型进行计划安排，但由于市场与价格机制的缺失，无法及时反映生产和消费的需求变化，导致生产效率低下、产出品质差，大量浪费社会资源。\n",
      "\n",
      "其次，集权主义导致决策不民主、无法有效响应社会变化。政治权力高度集中，导致政府缺少对市场和民间经济的了解和把握，对自由市场竞争缺乏适应性，不能满足人民的需求和要求，使得国家和民间经济难以协同发展。\n",
      "\n",
      "国有化也引起了一系列问题。国家几乎垄断了所有工业、农业和服务业，使得政府需要大量的资源来维持，导致财政状况严峻，同时由于国有化所造成的资源浪费和不必要的开支，国家经济长期处于亏损状态。\n",
      "\n",
      "苏联模式对人的自由与权利的限制过于严格。集权主义的体制剥夺了个人自由，使得个人的言论、新闻和出版受到很大限制。这样的体制导致知识和信息的匮乏，影响了人们的思想和素质成长。这些问题最终导致苏联在1989年解体。\n",
      "\n",
      "如何防止苏联模式重现？\n",
      "\n",
      "首先，推动政治制度的改革，建立法治国家，保护人民的自由和权利，实现政治多元化。其次，建立市场经济，并实行合理有效的市场调节和竞争机制，以保持经济发展的稳定和可持续性。加强教育，提高人民的素质和觉悟，使其能够理性思考问题并参与民主决策。加强跨国合作和交流，促进国际关系的和平化和多元化。同时，高度重视科技革命和现代化建设，提高国家的竞争力。\n",
      "\n",
      "如何解决苏联模式的遗留问题？\n",
      "\n",
      "逐步开放市场经济，采取“市场化改革”措施，使资源的配置更加有效率。同时，建立透明、公正、高效的政府管理机制，并加强政府与民间社会组织的合作与沟通。加强基础教育、职业培训和科技创新，赋予人们更多的知识和技能，提高其竞争力。同时，采取严厉的法律手段打击腐败现象，建立公正、高效的司法系统，维护人民的合法权益。\n",
      "\n",
      "与苏联模式相比，中国制定的社会主义建设方针注重农业优先发展，注重调动群众积极性，强调珠联璧合的地方发展，并灵活运用马克思主义原则来适应时代的要求，从而实现了社会主义建设的稳步发展。\n",
      "]\n"
     ]
    }
   ],
   "source": [
    "result = speech_synthesizer.speak_text_async(text).get()\n",
    "# Check result\n",
    "if result.reason == speechsdk.ResultReason.SynthesizingAudioCompleted:\n",
    "    print(\"Speech synthesized for text [{}]\".format(text))\n",
    "elif result.reason == speechsdk.ResultReason.Canceled:\n",
    "    cancellation_details = result.cancellation_details\n",
    "    print(\"Speech synthesis canceled: {}\".format(cancellation_details.reason))\n",
    "    if cancellation_details.reason == speechsdk.CancellationReason.Error:\n",
    "        print(\"Error details: {}\".format(cancellation_details.error_details))\n",
    "\n"
   ]
  },
  {
   "cell_type": "code",
   "execution_count": null,
   "id": "daabe925-eeeb-480e-967f-ae4bd8456c7a",
   "metadata": {},
   "outputs": [],
   "source": [
    "'''\n",
    "  For more samples please visit https://github.com/Azure-Samples/cognitive-services-speech-sdk \n",
    "'''\n",
    "\n",
    "import azure.cognitiveservices.speech as speechsdk\n",
    "\n",
    "# Creates an instance of a speech config with specified subscription key and service region.\n",
    "speech_key = \"2f45f71713534e3f830922e7b5b0a3a8\"\n",
    "service_region = \"eastasia\"\n",
    "\n",
    "speech_config = speechsdk.SpeechConfig(subscription=speech_key, region=service_region)\n",
    "# Note: the voice setting will not overwrite the voice element in input SSML.\n",
    "speech_config.speech_synthesis_voice_name = \"zh-CN-XiaoxiaoNeural\"\n",
    "\n",
    "text = \"你好，这是晓晓。\"\n",
    "\n",
    "# use the default speaker as audio output.\n",
    "speech_synthesizer = speechsdk.SpeechSynthesizer(speech_config=speech_config)\n",
    "\n",
    "result = speech_synthesizer.speak_text_async(text).get()\n",
    "# Check result\n",
    "if result.reason == speechsdk.ResultReason.SynthesizingAudioCompleted:\n",
    "    print(\"Speech synthesized for text [{}]\".format(text))\n",
    "elif result.reason == speechsdk.ResultReason.Canceled:\n",
    "    cancellation_details = result.cancellation_details\n",
    "    print(\"Speech synthesis canceled: {}\".format(cancellation_details.reason))\n",
    "    if cancellation_details.reason == speechsdk.CancellationReason.Error:\n",
    "        print(\"Error details: {}\".format(cancellation_details.error_details))\n",
    "\n"
   ]
  }
 ],
 "metadata": {
  "kernelspec": {
   "display_name": "Python 3 (ipykernel)",
   "language": "python",
   "name": "python3"
  },
  "language_info": {
   "codemirror_mode": {
    "name": "ipython",
    "version": 3
   },
   "file_extension": ".py",
   "mimetype": "text/x-python",
   "name": "python",
   "nbconvert_exporter": "python",
   "pygments_lexer": "ipython3",
   "version": "3.10.11"
  }
 },
 "nbformat": 4,
 "nbformat_minor": 5
}
