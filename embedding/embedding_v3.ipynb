{
 "cells": [
  {
   "cell_type": "code",
   "execution_count": 1,
   "id": "3cd62899-e61b-4522-aa7b-6b43e7da0a42",
   "metadata": {
    "tags": []
   },
   "outputs": [],
   "source": [
    "# imports\n",
    "import pandas as pd\n",
    "import os\n",
    "import tiktoken\n",
    "import openai\n",
    "from dotenv import load_dotenv\n",
    "\n",
    "from openai.embeddings_utils import get_embedding\n",
    "from openai.embeddings_utils import cosine_similarity"
   ]
  },
  {
   "cell_type": "code",
   "execution_count": 2,
   "id": "99102355-fb20-44f1-8d0b-8f4523bb0310",
   "metadata": {
    "tags": []
   },
   "outputs": [],
   "source": [
    "load_dotenv()\n",
    "openai.api_key = os.getenv(\"OPENAI_API_KEY\")"
   ]
  },
  {
   "cell_type": "code",
   "execution_count": 3,
   "id": "148a58d6-a0a9-41dc-90d7-4e7812d2289c",
   "metadata": {
    "tags": []
   },
   "outputs": [],
   "source": [
    "qa_df = pd.read_csv(\"data/crland.csv\")"
   ]
  },
  {
   "cell_type": "code",
   "execution_count": 4,
   "id": "8ba9920f-6eda-4b35-a193-a51cd9555544",
   "metadata": {
    "tags": []
   },
   "outputs": [],
   "source": [
    "# embedding model parameters\n",
    "embedding_model = \"text-embedding-ada-002\"\n",
    "embedding_encoding = \"cl100k_base\"  # this the encoding for text-embedding-ada-002\n",
    "max_tokens = 8000  # the maximum for text-embedding-ada-002 is 8191"
   ]
  },
  {
   "cell_type": "code",
   "execution_count": 5,
   "id": "d8f298ac-e69d-4fb6-928e-eb569785bd8e",
   "metadata": {
    "tags": []
   },
   "outputs": [],
   "source": [
    "qa_df = qa_df.dropna()"
   ]
  },
  {
   "cell_type": "code",
   "execution_count": 6,
   "id": "06d465ce-a2cb-460c-b493-ecc451ef7fc9",
   "metadata": {
    "tags": []
   },
   "outputs": [],
   "source": [
    "qa_df[\"combined\"] = (\"Prompt: \" + qa_df[\"prompt\"] + \"\\n\\nCompletion: \" + qa_df[\"completion\"] +\"\\n\\n\")"
   ]
  },
  {
   "cell_type": "code",
   "execution_count": 7,
   "id": "db79a2f3-c2ae-42aa-ae46-630e9e40ae09",
   "metadata": {
    "tags": []
   },
   "outputs": [],
   "source": [
    "encoding = tiktoken.get_encoding(embedding_encoding)\n",
    "\n",
    "# omit reviews that are too long to embed\n",
    "qa_df[\"n_tokens\"] = qa_df.combined.apply(lambda x: len(encoding.encode(x)))\n"
   ]
  },
  {
   "cell_type": "code",
   "execution_count": 8,
   "id": "df7b890d-1d46-41f9-8afc-44e3cbe62160",
   "metadata": {
    "tags": []
   },
   "outputs": [
    {
     "data": {
      "text/html": [
       "<div>\n",
       "<style scoped>\n",
       "    .dataframe tbody tr th:only-of-type {\n",
       "        vertical-align: middle;\n",
       "    }\n",
       "\n",
       "    .dataframe tbody tr th {\n",
       "        vertical-align: top;\n",
       "    }\n",
       "\n",
       "    .dataframe thead th {\n",
       "        text-align: right;\n",
       "    }\n",
       "</style>\n",
       "<table border=\"1\" class=\"dataframe\">\n",
       "  <thead>\n",
       "    <tr style=\"text-align: right;\">\n",
       "      <th></th>\n",
       "      <th>prompt</th>\n",
       "      <th>completion</th>\n",
       "      <th>combined</th>\n",
       "      <th>n_tokens</th>\n",
       "    </tr>\n",
       "  </thead>\n",
       "  <tbody>\n",
       "    <tr>\n",
       "      <th>0</th>\n",
       "      <td>华润城整体规划单位及其知名作品</td>\n",
       "      <td>RTKL国际有限公司（RTKL International）。是世界上最大的建筑规划设计公司...</td>\n",
       "      <td>Prompt: 华润城整体规划单位及其知名作品\\n\\nCompletion: RTKL国际有...</td>\n",
       "      <td>233</td>\n",
       "    </tr>\n",
       "    <tr>\n",
       "      <th>1</th>\n",
       "      <td>公建区规划及设计单位</td>\n",
       "      <td>公建区整体规划及展示中心设计单位：福斯特 (Foster)。参与的设计公司：RTKL、Fos...</td>\n",
       "      <td>Prompt: 公建区规划及设计单位\\n\\nCompletion: 公建区整体规划及展示中心...</td>\n",
       "      <td>276</td>\n",
       "    </tr>\n",
       "    <tr>\n",
       "      <th>2</th>\n",
       "      <td>建筑施工单位与建筑设计单位</td>\n",
       "      <td>建筑施工单位：中建三局。建筑设计单位：CCDI。\\n创立于1994年，是在世界城市建设和开发...</td>\n",
       "      <td>Prompt: 建筑施工单位与建筑设计单位\\n\\nCompletion: 建筑施工单位：中建...</td>\n",
       "      <td>474</td>\n",
       "    </tr>\n",
       "    <tr>\n",
       "      <th>3</th>\n",
       "      <td>万象天地园林设计单位及其曾设计过的知名作品</td>\n",
       "      <td>James Corner Field Operations（JCFO）事务所\\n简介：该事务...</td>\n",
       "      <td>Prompt: 万象天地园林设计单位及其曾设计过的知名作品\\n\\nCompletion: J...</td>\n",
       "      <td>186</td>\n",
       "    </tr>\n",
       "    <tr>\n",
       "      <th>4</th>\n",
       "      <td>精装修设计单位</td>\n",
       "      <td>西塔：美国WILSON公司、东塔Kokai。简介：美国WILSON室内设计公司成立于1971...</td>\n",
       "      <td>Prompt: 精装修设计单位\\n\\nCompletion: 西塔：美国WILSON公司、东...</td>\n",
       "      <td>426</td>\n",
       "    </tr>\n",
       "    <tr>\n",
       "      <th>...</th>\n",
       "      <td>...</td>\n",
       "      <td>...</td>\n",
       "      <td>...</td>\n",
       "      <td>...</td>\n",
       "    </tr>\n",
       "    <tr>\n",
       "      <th>91</th>\n",
       "      <td>停车收费标准？临时停放的车辆如何收费？</td>\n",
       "      <td>待定</td>\n",
       "      <td>Prompt: 停车收费标准？临时停放的车辆如何收费？\\n\\nCompletion: 待定\\n\\n</td>\n",
       "      <td>32</td>\n",
       "    </tr>\n",
       "    <tr>\n",
       "      <th>92</th>\n",
       "      <td>物业管理公司的有偿和无偿服务项目？每日服务时间？</td>\n",
       "      <td>待定</td>\n",
       "      <td>Prompt: 物业管理公司的有偿和无偿服务项目？每日服务时间？\\n\\nCompletion...</td>\n",
       "      <td>29</td>\n",
       "    </tr>\n",
       "    <tr>\n",
       "      <th>93</th>\n",
       "      <td>物业服务内容是什么？</td>\n",
       "      <td>待定</td>\n",
       "      <td>Prompt: 物业服务内容是什么？\\n\\nCompletion: 待定\\n\\n</td>\n",
       "      <td>18</td>\n",
       "    </tr>\n",
       "    <tr>\n",
       "      <th>94</th>\n",
       "      <td>入伙时须交哪些费用及金额计算？</td>\n",
       "      <td>物业管理收费应按月收取，经双方协商约定可以预收，但预收期限不得超过_____个月。\\n本体维...</td>\n",
       "      <td>Prompt: 入伙时须交哪些费用及金额计算？\\n\\nCompletion: 物业管理收费应...</td>\n",
       "      <td>102</td>\n",
       "    </tr>\n",
       "    <tr>\n",
       "      <th>95</th>\n",
       "      <td>水费、电费、电话费收费标准？有无代收费服务？</td>\n",
       "      <td>待定</td>\n",
       "      <td>Prompt: 水费、电费、电话费收费标准？有无代收费服务？\\n\\nCompletion: ...</td>\n",
       "      <td>31</td>\n",
       "    </tr>\n",
       "  </tbody>\n",
       "</table>\n",
       "<p>96 rows × 4 columns</p>\n",
       "</div>"
      ],
      "text/plain": [
       "                      prompt  \\\n",
       "0            华润城整体规划单位及其知名作品   \n",
       "1                 公建区规划及设计单位   \n",
       "2              建筑施工单位与建筑设计单位   \n",
       "3      万象天地园林设计单位及其曾设计过的知名作品   \n",
       "4                    精装修设计单位   \n",
       "..                       ...   \n",
       "91       停车收费标准？临时停放的车辆如何收费？   \n",
       "92  物业管理公司的有偿和无偿服务项目？每日服务时间？   \n",
       "93                物业服务内容是什么？   \n",
       "94           入伙时须交哪些费用及金额计算？   \n",
       "95    水费、电费、电话费收费标准？有无代收费服务？   \n",
       "\n",
       "                                           completion  \\\n",
       "0   RTKL国际有限公司（RTKL International）。是世界上最大的建筑规划设计公司...   \n",
       "1   公建区整体规划及展示中心设计单位：福斯特 (Foster)。参与的设计公司：RTKL、Fos...   \n",
       "2   建筑施工单位：中建三局。建筑设计单位：CCDI。\\n创立于1994年，是在世界城市建设和开发...   \n",
       "3   James Corner Field Operations（JCFO）事务所\\n简介：该事务...   \n",
       "4   西塔：美国WILSON公司、东塔Kokai。简介：美国WILSON室内设计公司成立于1971...   \n",
       "..                                                ...   \n",
       "91                                                 待定   \n",
       "92                                                 待定   \n",
       "93                                                 待定   \n",
       "94  物业管理收费应按月收取，经双方协商约定可以预收，但预收期限不得超过_____个月。\\n本体维...   \n",
       "95                                                 待定   \n",
       "\n",
       "                                             combined  n_tokens  \n",
       "0   Prompt: 华润城整体规划单位及其知名作品\\n\\nCompletion: RTKL国际有...       233  \n",
       "1   Prompt: 公建区规划及设计单位\\n\\nCompletion: 公建区整体规划及展示中心...       276  \n",
       "2   Prompt: 建筑施工单位与建筑设计单位\\n\\nCompletion: 建筑施工单位：中建...       474  \n",
       "3   Prompt: 万象天地园林设计单位及其曾设计过的知名作品\\n\\nCompletion: J...       186  \n",
       "4   Prompt: 精装修设计单位\\n\\nCompletion: 西塔：美国WILSON公司、东...       426  \n",
       "..                                                ...       ...  \n",
       "91  Prompt: 停车收费标准？临时停放的车辆如何收费？\\n\\nCompletion: 待定\\n\\n        32  \n",
       "92  Prompt: 物业管理公司的有偿和无偿服务项目？每日服务时间？\\n\\nCompletion...        29  \n",
       "93           Prompt: 物业服务内容是什么？\\n\\nCompletion: 待定\\n\\n        18  \n",
       "94  Prompt: 入伙时须交哪些费用及金额计算？\\n\\nCompletion: 物业管理收费应...       102  \n",
       "95  Prompt: 水费、电费、电话费收费标准？有无代收费服务？\\n\\nCompletion: ...        31  \n",
       "\n",
       "[96 rows x 4 columns]"
      ]
     },
     "execution_count": 8,
     "metadata": {},
     "output_type": "execute_result"
    }
   ],
   "source": [
    "qa_df"
   ]
  },
  {
   "cell_type": "code",
   "execution_count": 9,
   "id": "e6a7418b-f641-4793-a507-22614740596e",
   "metadata": {
    "tags": []
   },
   "outputs": [],
   "source": [
    "# This may take a few minutes\n",
    "qa_df[\"embedding\"] = qa_df.combined.apply(lambda x: get_embedding(x, engine=embedding_model))"
   ]
  },
  {
   "cell_type": "code",
   "execution_count": 10,
   "id": "dd5fa2b8-6861-48fb-a1a9-d7fcfb6634f2",
   "metadata": {
    "tags": []
   },
   "outputs": [],
   "source": [
    "qa_df.to_csv(\"data/crland_embeddings_v2.csv\",encoding='utf-8')"
   ]
  },
  {
   "cell_type": "code",
   "execution_count": 11,
   "id": "729146e4-43d3-4331-a4b1-b8581e616ee7",
   "metadata": {
    "tags": []
   },
   "outputs": [
    {
     "data": {
      "text/html": [
       "<div>\n",
       "<style scoped>\n",
       "    .dataframe tbody tr th:only-of-type {\n",
       "        vertical-align: middle;\n",
       "    }\n",
       "\n",
       "    .dataframe tbody tr th {\n",
       "        vertical-align: top;\n",
       "    }\n",
       "\n",
       "    .dataframe thead th {\n",
       "        text-align: right;\n",
       "    }\n",
       "</style>\n",
       "<table border=\"1\" class=\"dataframe\">\n",
       "  <thead>\n",
       "    <tr style=\"text-align: right;\">\n",
       "      <th></th>\n",
       "      <th>prompt</th>\n",
       "      <th>completion</th>\n",
       "      <th>combined</th>\n",
       "      <th>n_tokens</th>\n",
       "      <th>embedding</th>\n",
       "    </tr>\n",
       "  </thead>\n",
       "  <tbody>\n",
       "    <tr>\n",
       "      <th>0</th>\n",
       "      <td>华润城整体规划单位及其知名作品</td>\n",
       "      <td>RTKL国际有限公司（RTKL International）。是世界上最大的建筑规划设计公司...</td>\n",
       "      <td>Prompt: 华润城整体规划单位及其知名作品\\n\\nCompletion: RTKL国际有...</td>\n",
       "      <td>233</td>\n",
       "      <td>[0.004536231514066458, 0.0005073416978120804, ...</td>\n",
       "    </tr>\n",
       "    <tr>\n",
       "      <th>1</th>\n",
       "      <td>公建区规划及设计单位</td>\n",
       "      <td>公建区整体规划及展示中心设计单位：福斯特 (Foster)。参与的设计公司：RTKL、Fos...</td>\n",
       "      <td>Prompt: 公建区规划及设计单位\\n\\nCompletion: 公建区整体规划及展示中心...</td>\n",
       "      <td>276</td>\n",
       "      <td>[0.003463658271357417, -0.00806100107729435, -...</td>\n",
       "    </tr>\n",
       "    <tr>\n",
       "      <th>2</th>\n",
       "      <td>建筑施工单位与建筑设计单位</td>\n",
       "      <td>建筑施工单位：中建三局。建筑设计单位：CCDI。\\n创立于1994年，是在世界城市建设和开发...</td>\n",
       "      <td>Prompt: 建筑施工单位与建筑设计单位\\n\\nCompletion: 建筑施工单位：中建...</td>\n",
       "      <td>474</td>\n",
       "      <td>[-0.006669289898127317, 0.005116167478263378, ...</td>\n",
       "    </tr>\n",
       "    <tr>\n",
       "      <th>3</th>\n",
       "      <td>万象天地园林设计单位及其曾设计过的知名作品</td>\n",
       "      <td>James Corner Field Operations（JCFO）事务所\\n简介：该事务...</td>\n",
       "      <td>Prompt: 万象天地园林设计单位及其曾设计过的知名作品\\n\\nCompletion: J...</td>\n",
       "      <td>186</td>\n",
       "      <td>[0.0022138275671750307, -0.006464446894824505,...</td>\n",
       "    </tr>\n",
       "    <tr>\n",
       "      <th>4</th>\n",
       "      <td>精装修设计单位</td>\n",
       "      <td>西塔：美国WILSON公司、东塔Kokai。简介：美国WILSON室内设计公司成立于1971...</td>\n",
       "      <td>Prompt: 精装修设计单位\\n\\nCompletion: 西塔：美国WILSON公司、东...</td>\n",
       "      <td>426</td>\n",
       "      <td>[0.005364165175706148, -0.010392632335424423, ...</td>\n",
       "    </tr>\n",
       "  </tbody>\n",
       "</table>\n",
       "</div>"
      ],
      "text/plain": [
       "                  prompt                                         completion  \\\n",
       "0        华润城整体规划单位及其知名作品  RTKL国际有限公司（RTKL International）。是世界上最大的建筑规划设计公司...   \n",
       "1             公建区规划及设计单位  公建区整体规划及展示中心设计单位：福斯特 (Foster)。参与的设计公司：RTKL、Fos...   \n",
       "2          建筑施工单位与建筑设计单位  建筑施工单位：中建三局。建筑设计单位：CCDI。\\n创立于1994年，是在世界城市建设和开发...   \n",
       "3  万象天地园林设计单位及其曾设计过的知名作品  James Corner Field Operations（JCFO）事务所\\n简介：该事务...   \n",
       "4                精装修设计单位  西塔：美国WILSON公司、东塔Kokai。简介：美国WILSON室内设计公司成立于1971...   \n",
       "\n",
       "                                            combined  n_tokens  \\\n",
       "0  Prompt: 华润城整体规划单位及其知名作品\\n\\nCompletion: RTKL国际有...       233   \n",
       "1  Prompt: 公建区规划及设计单位\\n\\nCompletion: 公建区整体规划及展示中心...       276   \n",
       "2  Prompt: 建筑施工单位与建筑设计单位\\n\\nCompletion: 建筑施工单位：中建...       474   \n",
       "3  Prompt: 万象天地园林设计单位及其曾设计过的知名作品\\n\\nCompletion: J...       186   \n",
       "4  Prompt: 精装修设计单位\\n\\nCompletion: 西塔：美国WILSON公司、东...       426   \n",
       "\n",
       "                                           embedding  \n",
       "0  [0.004536231514066458, 0.0005073416978120804, ...  \n",
       "1  [0.003463658271357417, -0.00806100107729435, -...  \n",
       "2  [-0.006669289898127317, 0.005116167478263378, ...  \n",
       "3  [0.0022138275671750307, -0.006464446894824505,...  \n",
       "4  [0.005364165175706148, -0.010392632335424423, ...  "
      ]
     },
     "execution_count": 11,
     "metadata": {},
     "output_type": "execute_result"
    }
   ],
   "source": [
    "qa_df.head()"
   ]
  },
  {
   "cell_type": "code",
   "execution_count": 12,
   "id": "58f61caa-a40c-432c-bd0c-85b6138f85fa",
   "metadata": {},
   "outputs": [],
   "source": [
    "prompt = \"用自然语言介绍一下大沙河创新走廊\""
   ]
  },
  {
   "cell_type": "code",
   "execution_count": 13,
   "id": "0a01a910-5c28-4629-928b-3015af1c0d18",
   "metadata": {
    "tags": []
   },
   "outputs": [],
   "source": [
    "response = openai.Embedding.create(\n",
    "    input = prompt,\n",
    "    model = \"text-embedding-ada-002\"\n",
    ")\n",
    "promptembedding = response['data'][0]['embedding']"
   ]
  },
  {
   "cell_type": "code",
   "execution_count": 14,
   "id": "442754c0-f840-4487-990d-4f674ef12b53",
   "metadata": {
    "tags": []
   },
   "outputs": [],
   "source": [
    "qa_df[\"similarity\"] = qa_df.embedding.apply(lambda x: cosine_similarity(x, promptembedding))"
   ]
  },
  {
   "cell_type": "code",
   "execution_count": 15,
   "id": "faa85359-2b7e-4135-a75e-b491834683db",
   "metadata": {
    "tags": []
   },
   "outputs": [],
   "source": [
    "qa_df_similarity = qa_df.sort_values(by=\"similarity\", ascending=False)"
   ]
  },
  {
   "cell_type": "code",
   "execution_count": 16,
   "id": "0c222658-1456-4598-aab1-78968e987a2d",
   "metadata": {},
   "outputs": [],
   "source": [
    "qa_df_similarity.to_csv(\"data/crland_embeddings_similarity_v2.csv\",encoding='utf-8')"
   ]
  },
  {
   "cell_type": "code",
   "execution_count": 17,
   "id": "1c7bbaca-5626-48c6-9170-49c61c21060d",
   "metadata": {
    "tags": []
   },
   "outputs": [],
   "source": [
    "qa_df_similarity = qa_df_similarity.reset_index(drop=True)"
   ]
  },
  {
   "cell_type": "code",
   "execution_count": 18,
   "id": "c6574a32-c880-4326-97fc-43bcbd411842",
   "metadata": {
    "tags": []
   },
   "outputs": [
    {
     "name": "stdout",
     "output_type": "stream",
     "text": [
      "大沙河创新走廊\n",
      "大沙河生态廊道（规划中）\n",
      "沙河西路\n",
      "大沙河公园\n",
      "万象府的建筑景观情况\n"
     ]
    }
   ],
   "source": [
    "for i in range(5):\n",
    "    print(qa_df_similarity.at[i, \"prompt\"])"
   ]
  },
  {
   "cell_type": "code",
   "execution_count": 19,
   "id": "11847c22-7686-4fba-9931-5868be518b88",
   "metadata": {
    "tags": []
   },
   "outputs": [],
   "source": [
    "messages = []\n",
    "for i in range(5):\n",
    "    message = {\"role\": \"assistant\", \"content\": qa_df_similarity.at[i, \"combined\"]}\n",
    "    messages.append(message)"
   ]
  },
  {
   "cell_type": "code",
   "execution_count": 20,
   "id": "c9ad1dcf-e078-40cd-931d-85e5d340f29b",
   "metadata": {
    "tags": []
   },
   "outputs": [],
   "source": [
    "message = {\"role\": \"user\", \"content\": \"根据告诉你的信息，回答：\" + prompt}\n",
    "messages.append(message)"
   ]
  },
  {
   "cell_type": "code",
   "execution_count": 21,
   "id": "a2be65d9-6856-4bc9-9051-6cbeadd15412",
   "metadata": {
    "tags": []
   },
   "outputs": [
    {
     "data": {
      "text/plain": [
       "[{'role': 'assistant',\n",
       "  'content': 'Prompt: 大沙河创新走廊\\n\\nCompletion: 华润城项目地处大沙河创新走廊的下游，属于南山市政府重点规划区域。\\n大沙河创新走廊是深圳市“十二五”规划的重大项目，目前已进入第二期开发阶段，大沙河创新走廊的规划范围覆盖大沙河全流域，包括西丽、桃源街道全部，粤海街道的滨海大道以北部分，沙河街道的深南大道以北部分，以及南头街道的马家龙片区。共计101平方公里。从大沙河源头福龙大道起，到滨海大道深圳湾入海口止，通过大沙河流域内旧城、旧村、旧工业区改造，在上游以大学城为核心建设知识创新高地，中游以留仙洞为核心建设产业创新高地，下游以深圳湾高新区为核心建设技术创新高地，连接成为深圳市建设国家核心技术自主创新先锋城市的核心区。\\n大沙河创新走廊未来将建成创新型企业总部、研发基地和创新型人才宜聚地，同时未来的大沙河流域将成为南山次级行政中心和商业文化中心。\\n\\n'},\n",
       " {'role': 'assistant',\n",
       "  'content': 'Prompt: 大沙河生态廊道（规划中）\\n\\nCompletion: 大沙河是南山区惟一的一条河流，也是南山的“母亲河”，起始于长岭皮水库，穿越城区汇入深圳湾，全长13.5公里，流域面积90.69平方公里。\\n规划创造亲近自然的城市滨水空间，同时成为大沙河创新走廊的“一条文化中心线”，有关部门正对大沙河全程疏浚、修闸，并在东岸沿河建造“大沙河文化长廊”，使之成为深圳的城市名片，成为联结塘朗山郊野公园生态系统与深圳湾生态系统的生态廊道。\\n\\n'},\n",
       " {'role': 'assistant',\n",
       "  'content': 'Prompt: 沙河西路\\n\\nCompletion: 沙河西路是南山区南北向最长的路。是南山大道的2倍、南海大道的1.5倍长，长约12公里南至滨海大道，无缝连接深港跨海大桥，北至白芒检查站，贯穿了南山区西丽街道。\\n交汇道路：北环大道、深南路、白石路、滨海大道。\\n沿途商圈：后海中心区。\\n\\n'},\n",
       " {'role': 'assistant',\n",
       "  'content': 'Prompt: 大沙河公园\\n\\nCompletion: 大沙河公园是综合市政公园，被深圳市城市管理局评为“四星级公园”。公园位于南山区中部，北邻广（州）深（圳）高速公路、北起塘朗山，南接北环大道、西连大沙河东岸、东至南山区欧洲城，占地面积31.2公顷。公园内种植有乔、灌木100多种，共10000多株，草地39万平方米。入园无须门票，免费供市民、游客游玩。\\n公园以“生活、生命、生态”为主题，环保节能为特色，主要景点有三生广场、放飞广场、三生亭、风铃径等，同时拥有停车场(140个车位)，篮球场，网球场，健身场，儿童戏沙池。园中的植物树种有小叶榕、扶桑、四季桂花、樟树、榕树、腊肠树、山茶等；还有一些珍贵树种如原产中美洲的日日樱、琴叶珊瑚，马来西亚群岛的糖胶树、菩提树，东南亚的小叶榄仁树等等。公园内有许多观赏性植物包括：大红花、夹竹桃、鸡蛋花、凤凰木、青皮竹、龙船花、毛杜鹃、美人蕉等等。\\n\\n'},\n",
       " {'role': 'assistant',\n",
       "  'content': 'Prompt: 万象府的建筑景观情况\\n\\nCompletion: 所有户型朝向通风良好，视线通透不干扰。东面-大沙河景观、高尔夫景观（部分可能被A座遮挡），北面-大冲城市花园自身景观、部分高尔夫景观，西面-万象天地商业景观、南面-万象天地商业景观、部分海景、高尔夫景观。\\n\\n'},\n",
       " {'role': 'user', 'content': '根据告诉你的信息，回答：用自然语言介绍一下大沙河创新走廊'}]"
      ]
     },
     "execution_count": 21,
     "metadata": {},
     "output_type": "execute_result"
    }
   ],
   "source": [
    "messages"
   ]
  },
  {
   "cell_type": "code",
   "execution_count": 22,
   "id": "c3f582f1-8f65-43c0-97c2-a3174150da06",
   "metadata": {
    "tags": []
   },
   "outputs": [],
   "source": [
    "completion = openai.ChatCompletion.create(\n",
    "  model=\"gpt-3.5-turbo\",\n",
    "  messages=messages\n",
    ")"
   ]
  },
  {
   "cell_type": "code",
   "execution_count": 23,
   "id": "2f5e35b9-2c37-4f54-b278-1dda349dc440",
   "metadata": {
    "tags": []
   },
   "outputs": [],
   "source": [
    "response = completion.choices[0].message.content"
   ]
  },
  {
   "cell_type": "code",
   "execution_count": 24,
   "id": "21904b3f-4a64-4cc2-bd52-c78301e0914a",
   "metadata": {
    "tags": []
   },
   "outputs": [
    {
     "data": {
      "text/plain": [
       "'大沙河创新走廊是深圳市的一个重大规划项目，涵盖了西丽、桃源、沙河和南头等地区，总面积达到101平方公里。它的规划目标是通过旧城、旧村和旧工业区的改造来推进深圳市的跨越式发展，打造出一个南山区的核心区。该项目分为三个部分，上游以大学城为核心建设知识创新高地，中游以留仙洞为核心建设产业创新高地，下游以深圳湾高新区为核心建设技术创新高地，连接成为深圳市建设国家核心技术自主创新先锋城市的核心区。该项目的目标是建立一个创新型企业总部、研发基地和创新型人才宜聚地，同时将大沙河流域打造成南山的商业文化中心和城市名片。'"
      ]
     },
     "execution_count": 24,
     "metadata": {},
     "output_type": "execute_result"
    }
   ],
   "source": [
    "response"
   ]
  },
  {
   "cell_type": "code",
   "execution_count": 46,
   "id": "c74e588e-31da-467f-b492-f57be9ab3918",
   "metadata": {},
   "outputs": [],
   "source": [
    "prompt =f\"\"\" \n",
    "```\\n\n",
    "苏联模式是一种集中式、计划经济体制的经济模式，即指苏联在20世纪实行的社会主义经济体制。苏联模式的特点包括国有垄断、计划经济、等价交换、低效率、不合理的资源配置等。苏联模式的主要原则是政府控制国有企业和资源，并通过中央计划来指导生产和分配。该模式在苏联及其卫星国家使用了几十年时间，在经济上取得了一定的成功，但也面临了很多问题和挑战，最终在1991年苏联解体后终结。\n",
    "\n",
    "苏联模式是指苏联在20世纪的一套政治、经济、文化的制度和模式，其特点包括计划经济、集权主义、政治权力高度集中和国有化等。这种模式在苏联领导人斯大林时期得到了广泛的推广和实施，但随着时间的推移，这种模式逐渐暴露出许多问题。\n",
    "\n",
    "首先，计划经济效率低下。计划经济需要依靠一套庞大的机构和计算模型进行计划安排，但由于市场与价格机制的缺失，无法及时反映生产和消费的需求变化，导致生产效率低下、产出品质差，大量浪费社会资源。\n",
    "\n",
    "其次，集权主义导致决策不民主、无法有效响应社会变化。在苏联，政治权力高度集中，政府掌握了所有的经济、政治和文化资源，导致政府缺少对市场和民间经济的了解和把握，对自由市场竞争缺乏适应性，不能满足人民的需求和要求，使得国家和民间经济难以协同发展。\n",
    "\n",
    "此外，国有化也引起了一系列问题。在苏联，实行国有化，使得国家几乎垄断了所有工业、农业和服务业，使得政府需要大量的资源来维持，导致财政状况严峻，而由于国有化所造成的资源浪费和不必要的开支，也使得国家经济长期处于亏损状态。\n",
    "\n",
    "最后，苏联模式对人的自由与权利的限制过于严格。集权主义的体制使得个人自由被剥夺，特别是言论、新闻和出版自由受到了很大限制。这样的体制导致知识和信息的匮乏，影响了人们的思想和素质成长。这些问题最终导致苏联在1989年解体。\n",
    "\n",
    "苏联模式是指共产主义国家中的集权、计划经济、一党专政、个人权利受限等特征。为了防止苏联模式重现，以下是一些建议：\n",
    "\n",
    "1. 推动政治制度的改革，建立法治国家，保护人民的自由和权利，实现政治多元化。\n",
    "\n",
    "2. 建立市场经济，并实行合理有效的市场调节和竞争机制，以保持经济发展的稳定和可持续性。\n",
    "\n",
    "3. 加强教育，提高人民的素质和觉悟，使其能够理性思考问题并参与民主决策。\n",
    "\n",
    "4. 加强跨国合作和交流，促进国际关系的和平化和多元化。\n",
    "\n",
    "5. 加强舆论监督和反腐斗争，保护国家利益和人民权利。\n",
    "\n",
    "6. 高度重视科技革命和现代化建设，提高国家的竞争力。\n",
    "\n",
    "总之，防止苏联模式重现需要在政治、经济、文化和社会等方面全面发展，不断推动社会进步和全球化发展。\n",
    "\n",
    "苏联模式的遗留问题比较复杂，需要进行系统性的改革和重建。以下是一些可能的解决方案：\n",
    "\n",
    "1.逐步开放市场经济：采取“市场化改革”措施，逐步开放市场，使资源的配置更加有效率。\n",
    "\n",
    "2.改革政府管理机制：建立透明、公正、高效的政府管理机制，并加强政府与民间社会组织的合作与沟通。\n",
    "\n",
    "3.重视教育文化：加强基础教育、职业培训和科技创新，赋予人们更多的知识和技能，提高其竞争力。\n",
    "\n",
    "4.打击腐败：采取严厉的法律手段打击腐败现象。\n",
    "\n",
    "5.公正司法：建立公正、高效的司法系统，维护人民的合法权益。\n",
    "\n",
    "中国制定的社会主义建设方针相比苏联模式有以下几点优点：\n",
    "\n",
    "1.强调农业优先发展：在苏联模式中，农业被忽视，工业被过分强调，导致农业生产水平低下，食品、物资短缺，农村贫困问题长期存在。而中国在制定社会主义建设方针时，明确强调“农业是国民经济的基础”，提出“以农业为基础、以工业为主导”的方针，促进了农业和工业的协调发展，保证了经济的稳定持续发展。\n",
    "\n",
    "2.注重群众积极性：苏联模式中，社会主义建设主要依赖计划经济体制，缺乏市场机制，政府过于集中，主导决策，造成了效率低下、静止不前的问题。中国在制定社会主义建设方针时，重视调动群众积极性，发挥人民群众的主动性和创造性，注重市场机制的作用，鼓励个人和企业的自主创业和发展。\n",
    "\n",
    "3.强调珠联璧合的地方发展：苏联的社会主义发展主要是集中在莫斯科和圣彼得堡等大城市，各地发展不平衡。中国在制定社会主义建设方针时，提出了“珠联璧合”的地方发展战略，即发挥各地区的优势，形成互补性的地方性经济，促进各地区经济均衡发展。\n",
    "\n",
    "4.灵活运用马克思主义原则：中国在制定社会主义建设方针时，在继承马克思主义理论的基础上，根据我国实际情况进行创新，使建设方针更具针对性和实效性，更加符合国情。同时，为了适应时代的要求，中国不断调整和改进社会主义建设方针，实现了社会主义建设的稳步发展。\n",
    "```\n",
    "\"\"\"\n"
   ]
  },
  {
   "cell_type": "code",
   "execution_count": 47,
   "id": "a985bd46-b20e-44e8-974e-bc4e66657322",
   "metadata": {
    "tags": []
   },
   "outputs": [],
   "source": [
    "messages = []\n",
    "message = {\"role\": \"user\", \"content\": \"以一个国际政治专家的角度，把下面的内组织成一篇文章，1000字。内容用三个`包括\" + prompt}\n",
    "messages.append(message)"
   ]
  },
  {
   "cell_type": "code",
   "execution_count": 36,
   "id": "fc4078ce-be7f-43cc-88f7-60e5e22361e0",
   "metadata": {
    "tags": []
   },
   "outputs": [
    {
     "data": {
      "text/plain": [
       "{'role': 'user',\n",
       " 'content': '以一个国际政治专家的角度，把下面的内组织成一篇论文。 以一个国际政治专家的角度，把下面的内组织成一篇论文。\\n苏联模式是一种集中式、计划经济体制的经济模式，即指苏联在20世纪实行的社会主义经济体制。苏联模式的特点包括国有垄断、计划经济、等价交换、低效率、不合理的资源配置等。苏联模式的主要原则是政府控制国有企业和资源，并通过中央计划来指导生产和分配。该模式在苏联及其卫星国家使用了几十年时间，在经济上取得了一定的成功，但也面临了很多问题和挑战，最终在1991年苏联解体后终结。\\n\\n苏联模式是指苏联在20世纪的一套政治、经济、文化的制度和模式，其特点包括计划经济、集权主义、政治权力高度集中和国有化等。这种模式在苏联领导人斯大林时期得到了广泛的推广和实施，但随着时间的推移，这种模式逐渐暴露出许多问题。\\n\\n首先，计划经济效率低下。计划经济需要依靠一套庞大的机构和计算模型进行计划安排，但由于市场与价格机制的缺失，无法及时反映生产和消费的需求变化，导致生产效率低下、产出品质差，大量浪费社会资源。\\n\\n其次，集权主义导致决策不民主、无法有效响应社会变化。在苏联，政治权力高度集中，政府掌握了所有的经济、政治和文化资源，导致政府缺少对市场和民间经济的了解和把握，对自由市场竞争缺乏适应性，不能满足人民的需求和要求，使得国家和民间经济难以协同发展。\\n\\n此外，国有化也引起了一系列问题。在苏联，实行国有化，使得国家几乎垄断了所有工业、农业和服务业，使得政府需要大量的资源来维持，导致财政状况严峻，而由于国有化所造成的资源浪费和不必要的开支，也使得国家经济长期处于亏损状态。\\n\\n最后，苏联模式对人的自由与权利的限制过于严格。集权主义的体制使得个人自由被剥夺，特别是言论、新闻和出版自由受到了很大限制。这样的体制导致知识和信息的匮乏，影响了人们的思想和素质成长。这些问题最终导致苏联在1989年解体。\\n\\n苏联模式是指共产主义国家中的集权、计划经济、一党专政、个人权利受限等特征。为了防止苏联模式重现，以下是一些建议：\\n\\n1. 推动政治制度的改革，建立法治国家，保护人民的自由和权利，实现政治多元化。\\n\\n2. 建立市场经济，并实行合理有效的市场调节和竞争机制，以保持经济发展的稳定和可持续性。\\n\\n3. 加强教育，提高人民的素质和觉悟，使其能够理性思考问题并参与民主决策。\\n\\n4. 加强跨国合作和交流，促进国际关系的和平化和多元化。\\n\\n5. 加强舆论监督和反腐斗争，保护国家利益和人民权利。\\n\\n6. 高度重视科技革命和现代化建设，提高国家的竞争力。\\n\\n总之，防止苏联模式重现需要在政治、经济、文化和社会等方面全面发展，不断推动社会进步和全球化发展。\\n\\n苏联模式的遗留问题比较复杂，需要进行系统性的改革和重建。以下是一些可能的解决方案：\\n\\n1.逐步开放市场经济：采取“市场化改革”措施，逐步开放市场，使资源的配置更加有效率。\\n\\n2.改革政府管理机制：建立透明、公正、高效的政府管理机制，并加强政府与民间社会组织的合作与沟通。\\n\\n3.重视教育文化：加强基础教育、职业培训和科技创新，赋予人们更多的知识和技能，提高其竞争力。\\n\\n4.打击腐败：采取严厉的法律手段打击腐败现象。\\n\\n5.公正司法：建立公正、高效的司法系统，维护人民的合法权益。\\n\\n中国制定的社会主义建设方针相比苏联模式有以下几点优点：\\n\\n1.强调农业优先发展：在苏联模式中，农业被忽视，工业被过分强调，导致农业生产水平低下，食品、物资短缺，农村贫困问题长期存在。而中国在制定社会主义建设方针时，明确强调“农业是国民经济的基础”，提出“以农业为基础、以工业为主导”的方针，促进了农业和工业的协调发展，保证了经济的稳定持续发展。\\n\\n2.注重群众积极性：苏联模式中，社会主义建设主要依赖计划经济体制，缺乏市场机制，政府过于集中，主导决策，造成了效率低下、静止不前的问题。中国在制定社会主义建设方针时，重视调动群众积极性，发挥人民群众的主动性和创造性，注重市场机制的作用，鼓励个人和企业的自主创业和发展。\\n\\n3.强调珠联璧合的地方发展：苏联的社会主义发展主要是集中在莫斯科和圣彼得堡等大城市，各地发展不平衡。中国在制定社会主义建设方针时，提出了“珠联璧合”的地方发展战略，即发挥各地区的优势，形成互补性的地方性经济，促进各地区经济均衡发展。\\n\\n4.灵活运用马克思主义原则：中国在制定社会主义建设方针时，在继承马克思主义理论的基础上，根据我国实际情况进行创新，使建设方针更具针对性和实效性，更加符合国情。同时，为了适应时代的要求，中国不断调整和改进社会主义建设方针，实现了社会主义建设的稳步发展。\\n'}"
      ]
     },
     "execution_count": 36,
     "metadata": {},
     "output_type": "execute_result"
    }
   ],
   "source": [
    "messages[0]"
   ]
  },
  {
   "cell_type": "code",
   "execution_count": 48,
   "id": "aa7f94e3-6c26-4706-ab72-3aa2d086716b",
   "metadata": {
    "tags": []
   },
   "outputs": [],
   "source": [
    "completion = openai.ChatCompletion.create(\n",
    "  model=\"gpt-3.5-turbo\",\n",
    "  messages=messages\n",
    ")"
   ]
  },
  {
   "cell_type": "code",
   "execution_count": 49,
   "id": "76aef14f-e478-41bb-bd1a-a7fc30db0f93",
   "metadata": {
    "tags": []
   },
   "outputs": [],
   "source": [
    "response = completion.choices[0].message.content"
   ]
  },
  {
   "cell_type": "code",
   "execution_count": 50,
   "id": "f2edbf3d-62dc-4722-b891-384adcdeca25",
   "metadata": {
    "tags": []
   },
   "outputs": [
    {
     "data": {
      "text/plain": [
       "'苏联模式：特点及其遗留问题\\n\\n苏联模式是一种集中式、计划经济体制的经济模式，主要原则是政府控制国有企业和资源，并通过中央计划来指导生产和分配。这种模式在苏联期间取得了一定的成功，但也面临了很多问题和挑战，最终在1991年苏联解体后终结。苏联模式的特点包括国有垄断、计划经济、等价交换、低效率、不合理的资源配置等。但随着时间的推移，这种模式逐渐暴露出许多问题。\\n\\n首先，计划经济效率低下。计划经济需要依靠庞大的机构和计算模型进行计划安排，但由于市场与价格机制的缺失，无法及时反映生产和消费的需求变化，导致生产效率低下、产出品质差，大量浪费社会资源。\\n\\n其次，集权主义导致决策不民主、无法有效响应社会变化。政治权力高度集中，导致政府缺少对市场和民间经济的了解和把握，对自由市场竞争缺乏适应性，不能满足人民的需求和要求，使得国家和民间经济难以协同发展。\\n\\n国有化也引起了一系列问题。国家几乎垄断了所有工业、农业和服务业，使得政府需要大量的资源来维持，导致财政状况严峻，同时由于国有化所造成的资源浪费和不必要的开支，国家经济长期处于亏损状态。\\n\\n苏联模式对人的自由与权利的限制过于严格。集权主义的体制剥夺了个人自由，使得个人的言论、新闻和出版受到很大限制。这样的体制导致知识和信息的匮乏，影响了人们的思想和素质成长。这些问题最终导致苏联在1989年解体。\\n\\n如何防止苏联模式重现？\\n\\n首先，推动政治制度的改革，建立法治国家，保护人民的自由和权利，实现政治多元化。其次，建立市场经济，并实行合理有效的市场调节和竞争机制，以保持经济发展的稳定和可持续性。加强教育，提高人民的素质和觉悟，使其能够理性思考问题并参与民主决策。加强跨国合作和交流，促进国际关系的和平化和多元化。同时，高度重视科技革命和现代化建设，提高国家的竞争力。\\n\\n如何解决苏联模式的遗留问题？\\n\\n逐步开放市场经济，采取“市场化改革”措施，使资源的配置更加有效率。同时，建立透明、公正、高效的政府管理机制，并加强政府与民间社会组织的合作与沟通。加强基础教育、职业培训和科技创新，赋予人们更多的知识和技能，提高其竞争力。同时，采取严厉的法律手段打击腐败现象，建立公正、高效的司法系统，维护人民的合法权益。\\n\\n与苏联模式相比，中国制定的社会主义建设方针注重农业优先发展，注重调动群众积极性，强调珠联璧合的地方发展，并灵活运用马克思主义原则来适应时代的要求，从而实现了社会主义建设的稳步发展。'"
      ]
     },
     "execution_count": 50,
     "metadata": {},
     "output_type": "execute_result"
    }
   ],
   "source": [
    "response"
   ]
  },
  {
   "cell_type": "code",
   "execution_count": 40,
   "id": "a8f1d426-2e67-4f33-9cdf-22078659d03c",
   "metadata": {
    "tags": []
   },
   "outputs": [],
   "source": [
    "prompt = \"继续\""
   ]
  },
  {
   "cell_type": "code",
   "execution_count": 41,
   "id": "87062ce8-91dc-46ac-8a67-060046ab2605",
   "metadata": {
    "tags": []
   },
   "outputs": [],
   "source": [
    "messages = []\n",
    "message = {\"role\": \"user\", \"content\":  prompt}\n",
    "messages.append(message)"
   ]
  },
  {
   "cell_type": "code",
   "execution_count": 42,
   "id": "7de43697-6ce6-4a84-9dcf-22cfbb9c6101",
   "metadata": {
    "tags": []
   },
   "outputs": [
    {
     "data": {
      "text/plain": [
       "[{'role': 'user', 'content': '继续'}]"
      ]
     },
     "execution_count": 42,
     "metadata": {},
     "output_type": "execute_result"
    }
   ],
   "source": [
    "messages"
   ]
  },
  {
   "cell_type": "code",
   "execution_count": 43,
   "id": "c83cdcb2-5be5-4cf4-a803-04edf0eee7ca",
   "metadata": {
    "tags": []
   },
   "outputs": [],
   "source": [
    "completion = openai.ChatCompletion.create(\n",
    "  model=\"gpt-3.5-turbo\",\n",
    "  messages=messages\n",
    ")"
   ]
  },
  {
   "cell_type": "code",
   "execution_count": 44,
   "id": "8ceb2a7f-f9a3-4178-8fea-1fd1cf5c1dca",
   "metadata": {
    "tags": []
   },
   "outputs": [],
   "source": [
    "response = completion.choices[0].message.content"
   ]
  },
  {
   "cell_type": "code",
   "execution_count": 45,
   "id": "18b2cf8c-7561-43f6-b879-977c6bd950a2",
   "metadata": {
    "tags": []
   },
   "outputs": [
    {
     "data": {
      "text/plain": [
       "'我不知道你指的是什么，能否提供更多的背景和信息让我更好地理解和回答你的问题呢？'"
      ]
     },
     "execution_count": 45,
     "metadata": {},
     "output_type": "execute_result"
    }
   ],
   "source": [
    "response"
   ]
  },
  {
   "cell_type": "code",
   "execution_count": null,
   "id": "a4784af3-8deb-4e79-b45a-a4a84b3ffdac",
   "metadata": {},
   "outputs": [],
   "source": []
  }
 ],
 "metadata": {
  "kernelspec": {
   "display_name": "Python 3 (ipykernel)",
   "language": "python",
   "name": "python3"
  },
  "language_info": {
   "codemirror_mode": {
    "name": "ipython",
    "version": 3
   },
   "file_extension": ".py",
   "mimetype": "text/x-python",
   "name": "python",
   "nbconvert_exporter": "python",
   "pygments_lexer": "ipython3",
   "version": "3.10.6"
  }
 },
 "nbformat": 4,
 "nbformat_minor": 5
}
